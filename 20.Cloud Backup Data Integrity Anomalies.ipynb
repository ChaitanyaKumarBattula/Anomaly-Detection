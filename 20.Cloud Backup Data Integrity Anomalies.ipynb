{
 "cells": [
  {
   "cell_type": "markdown",
   "id": "34ec3edb-3f78-40ad-9828-710e85fbaf69",
   "metadata": {},
   "source": [
    "### 💻 **Cloud Backup Data Integrity Anomalies**"
   ]
  },
  {
   "cell_type": "markdown",
   "id": "789ce2c9-ba4d-4bfa-a476-cd30828ede5e",
   "metadata": {},
   "source": [
    "### 🎯 **Project Objective**\n",
    "\n",
    "**Objective**:  \n",
    "Detect anomalies in cloud backup data, such as corruption in stored data or failed backup jobs. Anomalies in backup integrity can include missing files, incomplete backups, or inconsistencies between local and cloud data. Early detection ensures that backup processes are functioning correctly, reducing the risk of data loss and improving system reliability."
   ]
  },
  {
   "cell_type": "markdown",
   "id": "de563199-e0c4-472a-9580-7caf098b1144",
   "metadata": {},
   "source": [
    "### 🧾 **Feature List**"
   ]
  },
  {
   "cell_type": "code",
   "execution_count": 1,
   "id": "9d9956a0-d650-4d0c-b85d-ce87acde2019",
   "metadata": {},
   "outputs": [],
   "source": [
    "feature_list = [\n",
    "    'user_id',                      # Unique identifier for each user\n",
    "    'total_files_in_backup',        # Total number of files that should be included in the backup\n",
    "    'files_backed_up',              # Number of files successfully backed up to the cloud\n",
    "    'backup_success_rate',          # Percentage of successful backup operations\n",
    "    'backup_duration_minutes',      # Duration of the backup operation in minutes\n",
    "    'backup_time_of_day',           # The time of day when the backup occurred (morning, afternoon, evening)\n",
    "    'backup_type',                  # Type of backup (full, incremental)\n",
    "    'local_data_size_GB',           # Total size of the data to be backed up on the local machine (in GB)\n",
    "    'cloud_data_size_GB',           # Total size of data stored in the cloud after backup (in GB)\n",
    "    'failed_backups',               # Number of failed backup attempts in the last 30 days\n",
    "    'backup_errors',                # Number of errors encountered during the backup process\n",
    "    'missing_files',                # Number of files that were supposed to be included in the backup but are missing\n",
    "    'backup_frequency',             # Frequency of backups (e.g., daily, weekly)\n",
    "    'backup_status'                 # Binary variable indicating whether the backup was successful (1) or failed (0)\n",
    "]\n"
   ]
  },
  {
   "cell_type": "markdown",
   "id": "da933c98-1d78-4776-86f3-7115188e5484",
   "metadata": {},
   "source": [
    "### 📦 **Step 1: Import Required Libraries**"
   ]
  },
  {
   "cell_type": "code",
   "execution_count": 2,
   "id": "d2fe4e25-f315-4534-bdda-cb7b30ae3a27",
   "metadata": {},
   "outputs": [],
   "source": [
    "import pandas as pd\n",
    "import numpy as np\n",
    "import random\n",
    "from sklearn.preprocessing import StandardScaler\n",
    "from sklearn.ensemble import IsolationForest\n",
    "import seaborn as sns\n",
    "import matplotlib.pyplot as plt"
   ]
  },
  {
   "cell_type": "markdown",
   "id": "9c208495-7bea-49e8-9100-24421a5331b7",
   "metadata": {},
   "source": [
    "### 🧑‍💻 **Step 2: Generate Synthetic User Behavior Data**"
   ]
  },
  {
   "cell_type": "code",
   "execution_count": 3,
   "id": "dfe81622-223a-4dad-92dc-e1bdc637ff52",
   "metadata": {},
   "outputs": [
    {
     "name": "stdout",
     "output_type": "stream",
     "text": [
      "user_id                      int64\n",
      "total_files_in_backup        int32\n",
      "files_backed_up              int32\n",
      "backup_success_rate        float64\n",
      "backup_duration_minutes    float64\n",
      "backup_time_of_day            int8\n",
      "backup_type                   int8\n",
      "local_data_size_GB         float64\n",
      "cloud_data_size_GB         float64\n",
      "failed_backups               int32\n",
      "backup_errors                int32\n",
      "missing_files                int32\n",
      "backup_frequency              int8\n",
      "backup_status                int32\n",
      "dtype: object\n"
     ]
    }
   ],
   "source": [
    "# Generate synthetic data\n",
    "def simulate_backup_data(num_samples):\n",
    "    data = pd.DataFrame({\n",
    "        'user_id': range(num_samples),\n",
    "        'total_files_in_backup': np.random.randint(500, 5000, num_samples),  # Total files in backup\n",
    "        'files_backed_up': np.random.randint(400, 5000, num_samples),  # Number of files successfully backed up\n",
    "        'backup_success_rate': np.random.uniform(85, 100, num_samples),  # Backup success rate (percentage)\n",
    "        'backup_duration_minutes': np.random.uniform(30, 120, num_samples),  # Duration of the backup in minutes\n",
    "        'backup_time_of_day': np.random.choice(['morning', 'afternoon', 'evening'], num_samples),  # Time of day\n",
    "        'backup_type': np.random.choice(['full', 'incremental'], num_samples),  # Full or incremental backup\n",
    "        'local_data_size_GB': np.random.uniform(1, 500, num_samples),  # Local data size in GB\n",
    "        'cloud_data_size_GB': np.random.uniform(1, 500, num_samples),  # Cloud data size in GB\n",
    "        'failed_backups': np.random.randint(0, 5, num_samples),  # Number of failed backup attempts\n",
    "        'backup_errors': np.random.randint(0, 5, num_samples),  # Number of backup errors\n",
    "        'missing_files': np.random.randint(0, 20, num_samples),  # Number of missing files\n",
    "        'backup_frequency': np.random.choice(['daily', 'weekly'], num_samples),  # Backup frequency\n",
    "        'backup_status': np.random.choice([0, 1], num_samples, p=[0.1, 0.9])  # Backup status: 1 for success, 0 for failure\n",
    "    })\n",
    "    return data\n",
    "\n",
    "# Generate synthetic test data\n",
    "test_data = simulate_backup_data(200)\n",
    "\n",
    "# Inject anomalies (failed backups, missing files, errors)\n",
    "anomaly_indices = random.sample(range(len(test_data)), 10)  # Select random indices for anomalies\n",
    "test_data.iloc[anomaly_indices, 1] += 100  # Inflate number of files backed up (simulate missing files)\n",
    "test_data.iloc[anomaly_indices, 4] += 50  # Inflate backup duration (simulate failed backup)\n",
    "test_data.iloc[anomaly_indices, 9] += 3   # Inflate number of backup errors\n",
    "test_data.iloc[anomaly_indices, 10] += 5  # Inflate missing files\n",
    "\n",
    "# Ensure that categorical features are properly encoded\n",
    "test_data_encoded = test_data.copy()\n",
    "test_data_encoded['backup_time_of_day'] = test_data_encoded['backup_time_of_day'].astype('category').cat.codes\n",
    "test_data_encoded['backup_type'] = test_data_encoded['backup_type'].astype('category').cat.codes\n",
    "test_data_encoded['backup_frequency'] = test_data_encoded['backup_frequency'].astype('category').cat.codes\n",
    "\n",
    "# Double-check the data types after encoding\n",
    "print(test_data_encoded.dtypes)\n",
    "\n",
    "# Standardizing or scaling the test data (make sure all columns are numerical)\n",
    "scaler = StandardScaler()\n",
    "test_data_scaled = scaler.fit_transform(test_data_encoded.drop(columns=['user_id', 'backup_status']))"
   ]
  },
  {
   "cell_type": "markdown",
   "id": "ca62e1d0-9f06-45df-ac60-f8660cc12f9c",
   "metadata": {},
   "source": [
    "### 🤖 **Step 3: Train the Model Using Isolation Forest**"
   ]
  },
  {
   "cell_type": "code",
   "execution_count": 4,
   "id": "c3c169a6-7352-4450-a7d9-65188f1f94df",
   "metadata": {},
   "outputs": [
    {
     "data": {
      "text/html": [
       "<div>\n",
       "<style scoped>\n",
       "    .dataframe tbody tr th:only-of-type {\n",
       "        vertical-align: middle;\n",
       "    }\n",
       "\n",
       "    .dataframe tbody tr th {\n",
       "        vertical-align: top;\n",
       "    }\n",
       "\n",
       "    .dataframe thead th {\n",
       "        text-align: right;\n",
       "    }\n",
       "</style>\n",
       "<table border=\"1\" class=\"dataframe\">\n",
       "  <thead>\n",
       "    <tr style=\"text-align: right;\">\n",
       "      <th></th>\n",
       "      <th>user_id</th>\n",
       "      <th>total_files_in_backup</th>\n",
       "      <th>files_backed_up</th>\n",
       "      <th>backup_success_rate</th>\n",
       "      <th>backup_duration_minutes</th>\n",
       "      <th>backup_time_of_day</th>\n",
       "      <th>backup_type</th>\n",
       "      <th>local_data_size_GB</th>\n",
       "      <th>cloud_data_size_GB</th>\n",
       "      <th>failed_backups</th>\n",
       "      <th>backup_errors</th>\n",
       "      <th>missing_files</th>\n",
       "      <th>backup_frequency</th>\n",
       "      <th>backup_status</th>\n",
       "      <th>predicted_anomaly</th>\n",
       "    </tr>\n",
       "  </thead>\n",
       "  <tbody>\n",
       "    <tr>\n",
       "      <th>29</th>\n",
       "      <td>29</td>\n",
       "      <td>1081</td>\n",
       "      <td>4116</td>\n",
       "      <td>89.669636</td>\n",
       "      <td>150.506086</td>\n",
       "      <td>2</td>\n",
       "      <td>1</td>\n",
       "      <td>69.566632</td>\n",
       "      <td>29.179239</td>\n",
       "      <td>7</td>\n",
       "      <td>8</td>\n",
       "      <td>17</td>\n",
       "      <td>1</td>\n",
       "      <td>1</td>\n",
       "      <td>1</td>\n",
       "    </tr>\n",
       "    <tr>\n",
       "      <th>47</th>\n",
       "      <td>47</td>\n",
       "      <td>4066</td>\n",
       "      <td>1706</td>\n",
       "      <td>90.680914</td>\n",
       "      <td>150.881380</td>\n",
       "      <td>1</td>\n",
       "      <td>0</td>\n",
       "      <td>183.661076</td>\n",
       "      <td>382.873684</td>\n",
       "      <td>7</td>\n",
       "      <td>9</td>\n",
       "      <td>1</td>\n",
       "      <td>1</td>\n",
       "      <td>1</td>\n",
       "      <td>1</td>\n",
       "    </tr>\n",
       "    <tr>\n",
       "      <th>66</th>\n",
       "      <td>66</td>\n",
       "      <td>4905</td>\n",
       "      <td>2933</td>\n",
       "      <td>99.382409</td>\n",
       "      <td>46.395998</td>\n",
       "      <td>1</td>\n",
       "      <td>1</td>\n",
       "      <td>469.491640</td>\n",
       "      <td>477.845328</td>\n",
       "      <td>0</td>\n",
       "      <td>4</td>\n",
       "      <td>18</td>\n",
       "      <td>1</td>\n",
       "      <td>1</td>\n",
       "      <td>1</td>\n",
       "    </tr>\n",
       "    <tr>\n",
       "      <th>82</th>\n",
       "      <td>82</td>\n",
       "      <td>1522</td>\n",
       "      <td>2811</td>\n",
       "      <td>92.526769</td>\n",
       "      <td>144.048818</td>\n",
       "      <td>0</td>\n",
       "      <td>1</td>\n",
       "      <td>108.172129</td>\n",
       "      <td>20.330717</td>\n",
       "      <td>3</td>\n",
       "      <td>5</td>\n",
       "      <td>5</td>\n",
       "      <td>0</td>\n",
       "      <td>1</td>\n",
       "      <td>1</td>\n",
       "    </tr>\n",
       "    <tr>\n",
       "      <th>115</th>\n",
       "      <td>115</td>\n",
       "      <td>1679</td>\n",
       "      <td>1035</td>\n",
       "      <td>94.670046</td>\n",
       "      <td>149.700539</td>\n",
       "      <td>2</td>\n",
       "      <td>1</td>\n",
       "      <td>245.838919</td>\n",
       "      <td>417.001783</td>\n",
       "      <td>7</td>\n",
       "      <td>5</td>\n",
       "      <td>19</td>\n",
       "      <td>1</td>\n",
       "      <td>1</td>\n",
       "      <td>1</td>\n",
       "    </tr>\n",
       "  </tbody>\n",
       "</table>\n",
       "</div>"
      ],
      "text/plain": [
       "     user_id  total_files_in_backup  files_backed_up  backup_success_rate  \\\n",
       "29        29                   1081             4116            89.669636   \n",
       "47        47                   4066             1706            90.680914   \n",
       "66        66                   4905             2933            99.382409   \n",
       "82        82                   1522             2811            92.526769   \n",
       "115      115                   1679             1035            94.670046   \n",
       "\n",
       "     backup_duration_minutes  backup_time_of_day  backup_type  \\\n",
       "29                150.506086                   2            1   \n",
       "47                150.881380                   1            0   \n",
       "66                 46.395998                   1            1   \n",
       "82                144.048818                   0            1   \n",
       "115               149.700539                   2            1   \n",
       "\n",
       "     local_data_size_GB  cloud_data_size_GB  failed_backups  backup_errors  \\\n",
       "29            69.566632           29.179239               7              8   \n",
       "47           183.661076          382.873684               7              9   \n",
       "66           469.491640          477.845328               0              4   \n",
       "82           108.172129           20.330717               3              5   \n",
       "115          245.838919          417.001783               7              5   \n",
       "\n",
       "     missing_files  backup_frequency  backup_status  predicted_anomaly  \n",
       "29              17                 1              1                  1  \n",
       "47               1                 1              1                  1  \n",
       "66              18                 1              1                  1  \n",
       "82               5                 0              1                  1  \n",
       "115             19                 1              1                  1  "
      ]
     },
     "execution_count": 4,
     "metadata": {},
     "output_type": "execute_result"
    }
   ],
   "source": [
    "# Define the model for anomaly detection (Isolation Forest)\n",
    "model = IsolationForest(contamination=0.05)  # Assume 5% of data are anomalies\n",
    "model.fit(test_data_scaled)\n",
    "\n",
    "# Predict anomalies on the test data\n",
    "test_data_encoded['predicted_anomaly'] = model.predict(test_data_scaled)\n",
    "test_data_encoded['predicted_anomaly'] = test_data_encoded['predicted_anomaly'].map({1: 0, -1: 1})  # 0 for normal, 1 for anomaly\n",
    "\n",
    "# Extract anomalies for inspection\n",
    "anomalies = test_data_encoded[test_data_encoded['predicted_anomaly'] == 1]\n",
    "\n",
    "# Display the detected anomalies\n",
    "anomalies.head()"
   ]
  },
  {
   "cell_type": "markdown",
   "id": "643e5bb2-b955-41b3-91a8-14f6f1675409",
   "metadata": {},
   "source": [
    "### 📈 **Step 4: Plot Anomaly Scores Distribution**"
   ]
  },
  {
   "cell_type": "code",
   "execution_count": 5,
   "id": "a8e2913c-ea26-4e8b-8c8c-2842c2882c00",
   "metadata": {},
   "outputs": [
    {
     "data": {
      "image/png": "[encoded data removed]",
      "text/plain": [
       "<Figure size 1000x600 with 1 Axes>"
      ]
     },
     "metadata": {},
     "output_type": "display_data"
    }
   ],
   "source": [
    "# Plot anomaly distribution (Backup duration and missing files)\n",
    "plt.figure(figsize=(10, 6))\n",
    "sns.histplot(anomalies['backup_duration_minutes'], bins=20, color='red', label=\"Anomalies\", kde=True)\n",
    "sns.histplot(test_data_encoded['backup_duration_minutes'], bins=20, color='blue', label=\"Normal\", kde=True)\n",
    "plt.title(\"Distribution of Backup Duration (Normal vs Anomalies)\")\n",
    "plt.xlabel(\"Backup Duration (Minutes)\")\n",
    "plt.ylabel(\"Frequency\")\n",
    "plt.legend()\n",
    "plt.show()"
   ]
  },
  {
   "cell_type": "markdown",
   "id": "6f4f9d21-02ef-4187-85ed-070415ed10e5",
   "metadata": {},
   "source": [
    "### 📈 **Step 5: Evaluate Model Performance**"
   ]
  },
  {
   "cell_type": "code",
   "execution_count": 6,
   "id": "8dd1415e-09dc-4358-812d-6e554f101bf1",
   "metadata": {},
   "outputs": [
    {
     "name": "stdout",
     "output_type": "stream",
     "text": [
      "📊 Classification Report:\n",
      "              precision    recall  f1-score   support\n",
      "\n",
      "           0       0.95      0.95      0.95       190\n",
      "           1       0.10      0.10      0.10        10\n",
      "\n",
      "    accuracy                           0.91       200\n",
      "   macro avg       0.53      0.53      0.53       200\n",
      "weighted avg       0.91      0.91      0.91       200\n",
      "\n"
     ]
    },
    {
     "name": "stderr",
     "output_type": "stream",
     "text": [
      "C:\\Users\\USER\\AppData\\Local\\Temp\\ipykernel_12840\\3310763794.py:22: UserWarning: Glyph 128201 (\\N{CHART WITH DOWNWARDS TREND}) missing from current font.\n",
      "  plt.tight_layout()\n",
      "C:\\Users\\USER\\anaconda3\\Lib\\site-packages\\IPython\\core\\pylabtools.py:170: UserWarning: Glyph 128201 (\\N{CHART WITH DOWNWARDS TREND}) missing from current font.\n",
      "  fig.canvas.print_figure(bytes_io, **kw)\n"
     ]
    },
    {
     "data": {
      "image/png": "[encoded data removed]",
      "text/plain": [
       "<Figure size 500x400 with 2 Axes>"
      ]
     },
     "metadata": {},
     "output_type": "display_data"
    }
   ],
   "source": [
    "from sklearn.metrics import classification_report, confusion_matrix\n",
    "\n",
    "anomaly_indices = random.sample(range(len(test_data)), 10)\n",
    "\n",
    "# Step 1: Create ground truth (true labels)\n",
    "test_data_encoded['true_label'] = 0\n",
    "test_data_encoded.loc[anomaly_indices, 'true_label'] = 1\n",
    "\n",
    "# Step 2: Classification report\n",
    "print(\"📊 Classification Report:\")\n",
    "print(classification_report(test_data_encoded['true_label'], test_data_encoded['predicted_anomaly']))\n",
    "\n",
    "# Step 3: Confusion matrix\n",
    "cm = confusion_matrix(test_data_encoded['true_label'], test_data_encoded['predicted_anomaly'])\n",
    "\n",
    "# Step 4: Plot confusion matrix\n",
    "plt.figure(figsize=(5, 4))\n",
    "sns.heatmap(cm, annot=True, fmt=\"d\", cmap=\"YlOrRd\", xticklabels=[\"Normal\", \"Anomaly\"], yticklabels=[\"Normal\", \"Anomaly\"])\n",
    "plt.xlabel(\"Predicted\")\n",
    "plt.ylabel(\"Actual\")\n",
    "plt.title(\"📉 Confusion Matrix\")\n",
    "plt.tight_layout()\n",
    "plt.show()"
   ]
  },
  {
   "cell_type": "code",
   "execution_count": 7,
   "id": "c7a0953f-bece-4944-9761-ffd5c5df8f94",
   "metadata": {},
   "outputs": [],
   "source": [
    "# Export anomalies to CSV\n",
    "anomalies.to_csv('anomalies_backup_data_integrity.csv', index=False)\n"
   ]
  },
  {
   "cell_type": "code",
   "execution_count": null,
   "id": "4eafd8c5-864d-4df2-be04-f3f091f1827f",
   "metadata": {},
   "outputs": [],
   "source": []
  }
 ],
 "metadata": {
  "kernelspec": {
   "display_name": "Python 3 (ipykernel)",
   "language": "python",
   "name": "python3"
  },
  "language_info": {
   "codemirror_mode": {
    "name": "ipython",
    "version": 3
   },
   "file_extension": ".py",
   "mimetype": "text/x-python",
   "name": "python",
   "nbconvert_exporter": "python",
   "pygments_lexer": "ipython3",
   "version": "3.11.5"
  }
 },
 "nbformat": 4,
 "nbformat_minor": 5
}
