{
 "cells": [
  {
   "cell_type": "markdown",
   "id": "317948c9-120e-4628-a12f-15716491995c",
   "metadata": {},
   "source": [
    "### 💻 **Cloud Cost Monitoring and Resource Optimization Anomalies**"
   ]
  },
  {
   "cell_type": "markdown",
   "id": "92737017-52a9-4d1e-98f0-aebdf13eb458",
   "metadata": {},
   "source": [
    "### 🎯 **Project Objective**\n",
    "\n",
    "Monitor unusual fluctuations in cloud storage or computing resource costs that deviate from typical usage patterns. Anomaly detection is used to detect unexpected surges in usage or resource consumption that could result in higher-than-expected costs, allowing cloud providers like Backblaze to manage costs and optimize resource allocation efficiently.\n"
   ]
  },
  {
   "cell_type": "markdown",
   "id": "162558fe-4753-48cd-b1e2-d86b52fbdf79",
   "metadata": {},
   "source": [
    "### 🧾 **Feature List**"
   ]
  },
  {
   "cell_type": "code",
   "execution_count": 1,
   "id": "2ecb6ff6-3a10-47db-9b65-607e8e8fecfb",
   "metadata": {},
   "outputs": [],
   "source": [
    "feature_list = [\n",
    "    \"user_id\",\n",
    "    \"storage_usage_GB\",\n",
    "    \"compute_usage_hours\",\n",
    "    \"network_bandwidth_GB\",\n",
    "    \"resource_type\",\n",
    "    \"usage_cost\",\n",
    "    \"avg_cost_per_GB\",\n",
    "    \"avg_compute_cost_per_hour\",\n",
    "    \"time_of_day\",\n",
    "    \"day_of_week\",\n",
    "    \"previous_usage\",\n",
    "    \"user_activity_level\",\n",
    "    \"unexpected_usage\",\n",
    "    \"usage_trend\",\n",
    "    \"cost_per_hour\",\n",
    "    \"contract_type\",\n",
    "    \"savings_plan\"\n",
    "]\n"
   ]
  },
  {
   "cell_type": "markdown",
   "id": "149a4a83-4a61-45d2-8d1f-1e93bc9cc13e",
   "metadata": {},
   "source": [
    "### 📦 **Step 1: Import Required Libraries**"
   ]
  },
  {
   "cell_type": "code",
   "execution_count": 2,
   "id": "f306f4cd-71dd-40cb-89b7-34e8c461ef6a",
   "metadata": {},
   "outputs": [],
   "source": [
    "import pandas as pd\n",
    "import numpy as np\n",
    "import random\n",
    "from sklearn.preprocessing import StandardScaler\n",
    "from sklearn.ensemble import IsolationForest\n",
    "import seaborn as sns\n",
    "import matplotlib.pyplot as plt"
   ]
  },
  {
   "cell_type": "markdown",
   "id": "287d157f-42e3-4f09-bf39-00ca4e683e80",
   "metadata": {},
   "source": [
    "### 🧑‍💻 **Step 2: Generate Synthetic User Behavior Data**"
   ]
  },
  {
   "cell_type": "code",
   "execution_count": 3,
   "id": "c0300869-d47d-4794-937c-f367ad9f30aa",
   "metadata": {},
   "outputs": [
    {
     "name": "stdout",
     "output_type": "stream",
     "text": [
      "user_id                        int64\n",
      "storage_usage_GB             float64\n",
      "compute_usage_hours          float64\n",
      "network_bandwidth_GB         float64\n",
      "resource_type                   int8\n",
      "usage_cost                   float64\n",
      "avg_cost_per_GB              float64\n",
      "avg_compute_cost_per_hour    float64\n",
      "time_of_day                     int8\n",
      "day_of_week                     int8\n",
      "previous_usage               float64\n",
      "user_activity_level             int8\n",
      "unexpected_usage               int32\n",
      "usage_trend                     int8\n",
      "cost_per_hour                float64\n",
      "contract_type                   int8\n",
      "savings_plan                   int32\n",
      "dtype: object\n"
     ]
    }
   ],
   "source": [
    "def simulate_cost_data(num_samples):\n",
    "    data = pd.DataFrame({\n",
    "        'user_id': range(num_samples),\n",
    "        'storage_usage_GB': np.random.uniform(50, 1000, num_samples),  # Cloud storage usage in GB\n",
    "        'compute_usage_hours': np.random.uniform(5, 200, num_samples),  # Compute usage in hours\n",
    "        'network_bandwidth_GB': np.random.uniform(10, 500, num_samples),  # Network bandwidth in GB\n",
    "        'resource_type': np.random.choice(['storage', 'compute', 'network'], num_samples),  # Resource type\n",
    "        'usage_cost': np.random.uniform(10, 500, num_samples),  # Cost associated with usage\n",
    "        'avg_cost_per_GB': np.random.uniform(0.02, 0.1, num_samples),  # Average cost per GB\n",
    "        'avg_compute_cost_per_hour': np.random.uniform(0.1, 1.0, num_samples),  # Average cost per compute hour\n",
    "        'time_of_day': np.random.choice(['morning', 'afternoon', 'evening'], num_samples),  # Time of day\n",
    "        'day_of_week': np.random.choice(['Monday', 'Tuesday', 'Wednesday', 'Thursday', 'Friday'], num_samples),  # Day of the week\n",
    "        'previous_usage': np.random.uniform(50, 1000, num_samples),  # Previous period usage (for fluctuation detection)\n",
    "        'user_activity_level': np.random.choice(['low', 'medium', 'high'], num_samples),  # User activity level\n",
    "        'unexpected_usage': np.random.choice([0, 1], num_samples, p=[0.95, 0.05]),  # Anomalous usage flag (target)\n",
    "        'usage_trend': np.random.choice(['increase', 'decrease', 'stable'], num_samples),  # Trend of usage\n",
    "        'cost_per_hour': np.random.uniform(0.2, 3.0, num_samples),  # Cost per unit of compute or storage resource\n",
    "        'contract_type': np.random.choice(['pay-as-you-go', 'subscription'], num_samples),  # Contract type\n",
    "        'savings_plan': np.random.choice([0, 1], num_samples, p=[0.8, 0.2])  # Savings plan indicator\n",
    "    })\n",
    "    return data\n",
    "\n",
    "# Generate synthetic test data\n",
    "test_data = simulate_cost_data(200)\n",
    "\n",
    "# Inject anomalies (usage spikes, cost surges)\n",
    "anomaly_indices = random.sample(range(len(test_data)), 10)  # Select random indices for anomalies\n",
    "test_data.iloc[anomaly_indices, 1] += 500  # Inflate storage usage (simulate spike)\n",
    "test_data.iloc[anomaly_indices, 2] += 100  # Inflate compute usage (simulate spike)\n",
    "test_data.iloc[anomaly_indices, 5] += 200  # Inflate usage cost (simulate spike)\n",
    "\n",
    "# Ensure that categorical features are properly encoded\n",
    "test_data_encoded = test_data.copy()\n",
    "test_data_encoded['time_of_day'] = test_data_encoded['time_of_day'].astype('category').cat.codes\n",
    "test_data_encoded['resource_type'] = test_data_encoded['resource_type'].astype('category').cat.codes\n",
    "test_data_encoded['day_of_week'] = test_data_encoded['day_of_week'].astype('category').cat.codes\n",
    "test_data_encoded['user_activity_level'] = test_data_encoded['user_activity_level'].astype('category').cat.codes\n",
    "test_data_encoded['usage_trend'] = test_data_encoded['usage_trend'].astype('category').cat.codes\n",
    "test_data_encoded['contract_type'] = test_data_encoded['contract_type'].astype('category').cat.codes\n",
    "\n",
    "# Double-check the data types after encoding\n",
    "print(test_data_encoded.dtypes)\n",
    "\n",
    "# Standardizing or scaling the test data (make sure all columns are numerical)\n",
    "scaler = StandardScaler()\n",
    "test_data_scaled = scaler.fit_transform(test_data_encoded.drop(columns=['user_id', 'unexpected_usage']))"
   ]
  },
  {
   "cell_type": "markdown",
   "id": "1fe9c5f8-f929-4af6-b1cd-6c082011b6b1",
   "metadata": {},
   "source": [
    "### 🤖 **Step 3: Train the Model Using Isolation Forest**"
   ]
  },
  {
   "cell_type": "code",
   "execution_count": 4,
   "id": "fae5a927-8bec-4edb-97df-a74ccef61161",
   "metadata": {},
   "outputs": [
    {
     "data": {
      "text/html": [
       "<div>\n",
       "<style scoped>\n",
       "    .dataframe tbody tr th:only-of-type {\n",
       "        vertical-align: middle;\n",
       "    }\n",
       "\n",
       "    .dataframe tbody tr th {\n",
       "        vertical-align: top;\n",
       "    }\n",
       "\n",
       "    .dataframe thead th {\n",
       "        text-align: right;\n",
       "    }\n",
       "</style>\n",
       "<table border=\"1\" class=\"dataframe\">\n",
       "  <thead>\n",
       "    <tr style=\"text-align: right;\">\n",
       "      <th></th>\n",
       "      <th>user_id</th>\n",
       "      <th>storage_usage_GB</th>\n",
       "      <th>compute_usage_hours</th>\n",
       "      <th>network_bandwidth_GB</th>\n",
       "      <th>resource_type</th>\n",
       "      <th>usage_cost</th>\n",
       "      <th>avg_cost_per_GB</th>\n",
       "      <th>avg_compute_cost_per_hour</th>\n",
       "      <th>time_of_day</th>\n",
       "      <th>day_of_week</th>\n",
       "      <th>previous_usage</th>\n",
       "      <th>user_activity_level</th>\n",
       "      <th>unexpected_usage</th>\n",
       "      <th>usage_trend</th>\n",
       "      <th>cost_per_hour</th>\n",
       "      <th>contract_type</th>\n",
       "      <th>savings_plan</th>\n",
       "      <th>predicted_anomaly</th>\n",
       "    </tr>\n",
       "  </thead>\n",
       "  <tbody>\n",
       "    <tr>\n",
       "      <th>11</th>\n",
       "      <td>11</td>\n",
       "      <td>423.755872</td>\n",
       "      <td>193.602030</td>\n",
       "      <td>415.528879</td>\n",
       "      <td>0</td>\n",
       "      <td>111.400911</td>\n",
       "      <td>0.025047</td>\n",
       "      <td>0.326203</td>\n",
       "      <td>2</td>\n",
       "      <td>0</td>\n",
       "      <td>790.253032</td>\n",
       "      <td>1</td>\n",
       "      <td>0</td>\n",
       "      <td>2</td>\n",
       "      <td>1.784902</td>\n",
       "      <td>0</td>\n",
       "      <td>1</td>\n",
       "      <td>1</td>\n",
       "    </tr>\n",
       "    <tr>\n",
       "      <th>18</th>\n",
       "      <td>18</td>\n",
       "      <td>1180.403394</td>\n",
       "      <td>156.588143</td>\n",
       "      <td>92.751677</td>\n",
       "      <td>1</td>\n",
       "      <td>685.881218</td>\n",
       "      <td>0.025096</td>\n",
       "      <td>0.584775</td>\n",
       "      <td>1</td>\n",
       "      <td>4</td>\n",
       "      <td>110.479962</td>\n",
       "      <td>1</td>\n",
       "      <td>0</td>\n",
       "      <td>1</td>\n",
       "      <td>1.540868</td>\n",
       "      <td>0</td>\n",
       "      <td>0</td>\n",
       "      <td>1</td>\n",
       "    </tr>\n",
       "    <tr>\n",
       "      <th>24</th>\n",
       "      <td>24</td>\n",
       "      <td>113.629782</td>\n",
       "      <td>13.519578</td>\n",
       "      <td>158.060368</td>\n",
       "      <td>2</td>\n",
       "      <td>470.292534</td>\n",
       "      <td>0.031917</td>\n",
       "      <td>0.887367</td>\n",
       "      <td>2</td>\n",
       "      <td>2</td>\n",
       "      <td>139.336121</td>\n",
       "      <td>0</td>\n",
       "      <td>0</td>\n",
       "      <td>0</td>\n",
       "      <td>1.410061</td>\n",
       "      <td>1</td>\n",
       "      <td>1</td>\n",
       "      <td>1</td>\n",
       "    </tr>\n",
       "    <tr>\n",
       "      <th>75</th>\n",
       "      <td>75</td>\n",
       "      <td>153.968189</td>\n",
       "      <td>31.775362</td>\n",
       "      <td>496.255533</td>\n",
       "      <td>0</td>\n",
       "      <td>474.215787</td>\n",
       "      <td>0.025008</td>\n",
       "      <td>0.973553</td>\n",
       "      <td>1</td>\n",
       "      <td>4</td>\n",
       "      <td>954.742506</td>\n",
       "      <td>2</td>\n",
       "      <td>0</td>\n",
       "      <td>1</td>\n",
       "      <td>0.312495</td>\n",
       "      <td>0</td>\n",
       "      <td>0</td>\n",
       "      <td>1</td>\n",
       "    </tr>\n",
       "    <tr>\n",
       "      <th>95</th>\n",
       "      <td>95</td>\n",
       "      <td>394.985867</td>\n",
       "      <td>28.866616</td>\n",
       "      <td>164.101630</td>\n",
       "      <td>2</td>\n",
       "      <td>218.875125</td>\n",
       "      <td>0.039730</td>\n",
       "      <td>0.993303</td>\n",
       "      <td>1</td>\n",
       "      <td>4</td>\n",
       "      <td>341.144031</td>\n",
       "      <td>2</td>\n",
       "      <td>0</td>\n",
       "      <td>0</td>\n",
       "      <td>2.796961</td>\n",
       "      <td>1</td>\n",
       "      <td>1</td>\n",
       "      <td>1</td>\n",
       "    </tr>\n",
       "  </tbody>\n",
       "</table>\n",
       "</div>"
      ],
      "text/plain": [
       "    user_id  storage_usage_GB  compute_usage_hours  network_bandwidth_GB  \\\n",
       "11       11        423.755872           193.602030            415.528879   \n",
       "18       18       1180.403394           156.588143             92.751677   \n",
       "24       24        113.629782            13.519578            158.060368   \n",
       "75       75        153.968189            31.775362            496.255533   \n",
       "95       95        394.985867            28.866616            164.101630   \n",
       "\n",
       "    resource_type  usage_cost  avg_cost_per_GB  avg_compute_cost_per_hour  \\\n",
       "11              0  111.400911         0.025047                   0.326203   \n",
       "18              1  685.881218         0.025096                   0.584775   \n",
       "24              2  470.292534         0.031917                   0.887367   \n",
       "75              0  474.215787         0.025008                   0.973553   \n",
       "95              2  218.875125         0.039730                   0.993303   \n",
       "\n",
       "    time_of_day  day_of_week  previous_usage  user_activity_level  \\\n",
       "11            2            0      790.253032                    1   \n",
       "18            1            4      110.479962                    1   \n",
       "24            2            2      139.336121                    0   \n",
       "75            1            4      954.742506                    2   \n",
       "95            1            4      341.144031                    2   \n",
       "\n",
       "    unexpected_usage  usage_trend  cost_per_hour  contract_type  savings_plan  \\\n",
       "11                 0            2       1.784902              0             1   \n",
       "18                 0            1       1.540868              0             0   \n",
       "24                 0            0       1.410061              1             1   \n",
       "75                 0            1       0.312495              0             0   \n",
       "95                 0            0       2.796961              1             1   \n",
       "\n",
       "    predicted_anomaly  \n",
       "11                  1  \n",
       "18                  1  \n",
       "24                  1  \n",
       "75                  1  \n",
       "95                  1  "
      ]
     },
     "execution_count": 4,
     "metadata": {},
     "output_type": "execute_result"
    }
   ],
   "source": [
    "# Define the model for anomaly detection (Isolation Forest)\n",
    "model = IsolationForest(contamination=0.05)  # Assume 5% of data are anomalies\n",
    "model.fit(test_data_scaled)\n",
    "\n",
    "# Predict anomalies on the test data\n",
    "test_data_encoded['predicted_anomaly'] = model.predict(test_data_scaled)\n",
    "test_data_encoded['predicted_anomaly'] = test_data_encoded['predicted_anomaly'].map({1: 0, -1: 1})  # 0 for normal, 1 for anomaly\n",
    "\n",
    "# Extract anomalies for inspection\n",
    "anomalies = test_data_encoded[test_data_encoded['predicted_anomaly'] == 1]\n",
    "\n",
    "# Display the detected anomalies\n",
    "anomalies.head()"
   ]
  },
  {
   "cell_type": "markdown",
   "id": "86a273d9-4c71-4a52-9921-df8ae94acc4b",
   "metadata": {},
   "source": [
    "### 📈 **Step 4: Plot Anomaly Scores Distribution**"
   ]
  },
  {
   "cell_type": "code",
   "execution_count": 5,
   "id": "8c086643-aac5-49e5-9acf-2cb2bf5ca1a8",
   "metadata": {},
   "outputs": [
    {
     "data": {
      "image/png": "[encoded data removed]",
      "text/plain": [
       "<Figure size 1000x600 with 1 Axes>"
      ]
     },
     "metadata": {},
     "output_type": "display_data"
    }
   ],
   "source": [
    "# Plot anomaly distribution (Usage cost and storage usage)\n",
    "plt.figure(figsize=(10, 6))\n",
    "sns.histplot(anomalies['usage_cost'], bins=20, color='red', label=\"Anomalies\", kde=True)\n",
    "sns.histplot(test_data_encoded['usage_cost'], bins=20, color='blue', label=\"Normal\", kde=True)\n",
    "plt.title(\"Distribution of Usage Cost (Normal vs Anomalies)\")\n",
    "plt.xlabel(\"Usage Cost\")\n",
    "plt.ylabel(\"Frequency\")\n",
    "plt.legend()\n",
    "plt.show()"
   ]
  },
  {
   "cell_type": "markdown",
   "id": "6819a053-6b55-4c68-94ff-b9e1f18fa5ef",
   "metadata": {},
   "source": [
    "### 📈 **Step 5: Evaluate Model Performance**"
   ]
  },
  {
   "cell_type": "code",
   "execution_count": 6,
   "id": "a7bfca46-1c37-4fc0-8608-68fb7cb1df1a",
   "metadata": {},
   "outputs": [
    {
     "name": "stdout",
     "output_type": "stream",
     "text": [
      "📊 Classification Report:\n",
      "              precision    recall  f1-score   support\n",
      "\n",
      "           0       0.96      0.96      0.96       190\n",
      "           1       0.30      0.30      0.30        10\n",
      "\n",
      "    accuracy                           0.93       200\n",
      "   macro avg       0.63      0.63      0.63       200\n",
      "weighted avg       0.93      0.93      0.93       200\n",
      "\n"
     ]
    },
    {
     "name": "stderr",
     "output_type": "stream",
     "text": [
      "C:\\Users\\USER\\AppData\\Local\\Temp\\ipykernel_17980\\3310763794.py:22: UserWarning: Glyph 128201 (\\N{CHART WITH DOWNWARDS TREND}) missing from current font.\n",
      "  plt.tight_layout()\n",
      "C:\\Users\\USER\\anaconda3\\Lib\\site-packages\\IPython\\core\\pylabtools.py:170: UserWarning: Glyph 128201 (\\N{CHART WITH DOWNWARDS TREND}) missing from current font.\n",
      "  fig.canvas.print_figure(bytes_io, **kw)\n"
     ]
    },
    {
     "data": {
      "image/png": "[encoded data removed]",
      "text/plain": [
       "<Figure size 500x400 with 2 Axes>"
      ]
     },
     "metadata": {},
     "output_type": "display_data"
    }
   ],
   "source": [
    "from sklearn.metrics import classification_report, confusion_matrix\n",
    "\n",
    "anomaly_indices = random.sample(range(len(test_data)), 10)\n",
    "\n",
    "# Step 1: Create ground truth (true labels)\n",
    "test_data_encoded['true_label'] = 0\n",
    "test_data_encoded.loc[anomaly_indices, 'true_label'] = 1\n",
    "\n",
    "# Step 2: Classification report\n",
    "print(\"📊 Classification Report:\")\n",
    "print(classification_report(test_data_encoded['true_label'], test_data_encoded['predicted_anomaly']))\n",
    "\n",
    "# Step 3: Confusion matrix\n",
    "cm = confusion_matrix(test_data_encoded['true_label'], test_data_encoded['predicted_anomaly'])\n",
    "\n",
    "# Step 4: Plot confusion matrix\n",
    "plt.figure(figsize=(5, 4))\n",
    "sns.heatmap(cm, annot=True, fmt=\"d\", cmap=\"YlOrRd\", xticklabels=[\"Normal\", \"Anomaly\"], yticklabels=[\"Normal\", \"Anomaly\"])\n",
    "plt.xlabel(\"Predicted\")\n",
    "plt.ylabel(\"Actual\")\n",
    "plt.title(\"📉 Confusion Matrix\")\n",
    "plt.tight_layout()\n",
    "plt.show()"
   ]
  },
  {
   "cell_type": "code",
   "execution_count": 7,
   "id": "751bc7c3-9342-44da-b36b-a84b687ff990",
   "metadata": {},
   "outputs": [],
   "source": [
    "# Export anomalies to CSV\n",
    "anomalies.to_csv('anomalies_cloud_cost_monitoring.csv', index=False)\n"
   ]
  }
 ],
 "metadata": {
  "kernelspec": {
   "display_name": "Python 3 (ipykernel)",
   "language": "python",
   "name": "python3"
  },
  "language_info": {
   "codemirror_mode": {
    "name": "ipython",
    "version": 3
   },
   "file_extension": ".py",
   "mimetype": "text/x-python",
   "name": "python",
   "nbconvert_exporter": "python",
   "pygments_lexer": "ipython3",
   "version": "3.11.5"
  }
 },
 "nbformat": 4,
 "nbformat_minor": 5
}
